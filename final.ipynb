{
 "cells": [
  {
   "cell_type": "code",
   "execution_count": 1,
   "id": "39f1200e",
   "metadata": {},
   "outputs": [
    {
     "name": "stdout",
     "output_type": "stream",
     "text": [
      "✔️ Processed: Fried Rice with Chicken Manchurian .jpg\n",
      "✔️ Processed: Fried Rice with Chilli Chaap.jpg\n",
      "✔️ Processed: Fried Rice with Chilli Chicken.jpg\n",
      "✔️ Processed: Fried Rice with Chilli mushroom .jpg\n",
      "✔️ Processed: Fried Rice with Desi Chilli Paneer.jpg\n",
      "✔️ Processed: Fried Rice with Veg Manchurian .jpg\n",
      "✅ All images resized with padding and saved to: result\n"
     ]
    }
   ],
   "source": [
    "# %%\n",
    "from PIL import Image, ImageOps\n",
    "import os\n",
    "\n",
    "input_folder = \"Fried Rice Combo\"   # 👈 Your input folder\n",
    "output_folder = \"result\"\n",
    "os.makedirs(output_folder, exist_ok=True)\n",
    "\n",
    "target_ratio = 5 / 4\n",
    "final_size = (600, 480)\n",
    "\n",
    "for filename in os.listdir(input_folder):\n",
    "    if filename.lower().endswith((\".jpg\", \".jpeg\", \".png\", \".bmp\", \".webp\")):\n",
    "        img_path = os.path.join(input_folder, filename)\n",
    "\n",
    "        try:\n",
    "            img = Image.open(img_path)\n",
    "        except Exception as e:\n",
    "            print(f\"❌ Failed to open {filename}: {e}\")\n",
    "            continue\n",
    "\n",
    "        width, height = img.size\n",
    "        current_ratio = width / height\n",
    "\n",
    "        # Calculate padding to achieve 5:4 ratio\n",
    "        if current_ratio > target_ratio:\n",
    "            # Too wide, pad top/bottom\n",
    "            new_height = int(width / target_ratio)\n",
    "            padding = (0, (new_height - height) // 2)\n",
    "        else:\n",
    "            # Too tall, pad left/right\n",
    "            new_width = int(height * target_ratio)\n",
    "            padding = ((new_width - width) // 2, 0)\n",
    "\n",
    "        # Add padding to center the image\n",
    "        padded_img = ImageOps.expand(img, border=(padding[0], padding[1], padding[0], padding[1]), fill=\"white\")\n",
    "\n",
    "        # Resize to final size\n",
    "        resized_img = padded_img.resize(final_size, Image.Resampling.LANCZOS)\n",
    "\n",
    "        # Save it\n",
    "        output_path = os.path.join(output_folder, filename)\n",
    "        resized_img.save(output_path)\n",
    "\n",
    "        print(f\"✔️ Processed: {filename}\")\n",
    "\n",
    "print(\"✅ All images resized with padding and saved to:\", output_folder)\n"
   ]
  }
 ],
 "metadata": {
  "kernelspec": {
   "display_name": "myenv",
   "language": "python",
   "name": "python3"
  },
  "language_info": {
   "codemirror_mode": {
    "name": "ipython",
    "version": 3
   },
   "file_extension": ".py",
   "mimetype": "text/x-python",
   "name": "python",
   "nbconvert_exporter": "python",
   "pygments_lexer": "ipython3",
   "version": "3.11.13"
  }
 },
 "nbformat": 4,
 "nbformat_minor": 5
}
