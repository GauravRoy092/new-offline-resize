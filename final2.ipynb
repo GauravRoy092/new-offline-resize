{
 "cells": [
  {
   "cell_type": "code",
   "execution_count": 1,
   "id": "76c5100d",
   "metadata": {},
   "outputs": [
    {
     "name": "stdout",
     "output_type": "stream",
     "text": [
      "✔️ Processed: Fried Rice with Chicken Manchurian .jpg\n",
      "✔️ Processed: Fried Rice with Chilli Chaap.jpg\n",
      "✔️ Processed: Fried Rice with Chilli Chicken.jpg\n",
      "✔️ Processed: Fried Rice with Chilli mushroom .jpg\n",
      "✔️ Processed: Fried Rice with Desi Chilli Paneer.jpg\n",
      "✔️ Processed: Fried Rice with Veg Manchurian .jpg\n",
      "✅ All images resized with blur background and saved to: result\n"
     ]
    }
   ],
   "source": [
    "from PIL import Image, ImageOps, ImageFilter\n",
    "import os\n",
    "\n",
    "input_folder = \"Fried Rice Combo\"\n",
    "output_folder = \"result\"\n",
    "os.makedirs(output_folder, exist_ok=True)\n",
    "\n",
    "final_size = (600, 480)\n",
    "\n",
    "for filename in os.listdir(input_folder):\n",
    "    if filename.lower().endswith((\".jpg\", \".jpeg\", \".png\", \".bmp\", \".webp\")):\n",
    "        img_path = os.path.join(input_folder, filename)\n",
    "\n",
    "        try:\n",
    "            img = Image.open(img_path)\n",
    "        except Exception as e:\n",
    "            print(f\"❌ Failed to open {filename}: {e}\")\n",
    "            continue\n",
    "\n",
    "        # Resize original image to fit within 600x480 (keeping aspect ratio)\n",
    "        img.thumbnail(final_size, Image.Resampling.LANCZOS)\n",
    "\n",
    "        # Create blurred background from original\n",
    "        background = img.copy().resize(final_size)\n",
    "        background = background.filter(ImageFilter.GaussianBlur(20))\n",
    "\n",
    "        # Paste the resized image onto blurred background (centered)\n",
    "        offset = (\n",
    "            (final_size[0] - img.size[0]) // 2,\n",
    "            (final_size[1] - img.size[1]) // 2\n",
    "        )\n",
    "        background.paste(img, offset)\n",
    "\n",
    "        # Save final image\n",
    "        output_path = os.path.join(output_folder, filename)\n",
    "        background.save(output_path)\n",
    "\n",
    "        print(f\"✔️ Processed: {filename}\")\n",
    "\n",
    "print(\"✅ All images resized with blur background and saved to:\", output_folder)\n"
   ]
  }
 ],
 "metadata": {
  "kernelspec": {
   "display_name": "myenv",
   "language": "python",
   "name": "python3"
  },
  "language_info": {
   "codemirror_mode": {
    "name": "ipython",
    "version": 3
   },
   "file_extension": ".py",
   "mimetype": "text/x-python",
   "name": "python",
   "nbconvert_exporter": "python",
   "pygments_lexer": "ipython3",
   "version": "3.11.13"
  }
 },
 "nbformat": 4,
 "nbformat_minor": 5
}
